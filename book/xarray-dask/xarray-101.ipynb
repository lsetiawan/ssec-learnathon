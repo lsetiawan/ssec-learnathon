{
 "cells": [
  {
   "cell_type": "markdown",
   "metadata": {},
   "source": [
    "# Xarray 101"
   ]
  },
  {
   "cell_type": "markdown",
   "metadata": {},
   "source": [
    "Sources:\n",
    "- [Xarray's Data Structures](https://tutorial.xarray.dev/fundamentals/01_datastructures.html)\n",
    "- [Xarray in 45 minutes](https://tutorial.xarray.dev/overview/xarray-in-45-min.html)\n",
    "- [Indexing and Selecting Data](https://tutorial.xarray.dev/fundamentals/02.1_indexing_Basic.html)\n",
    "- [Grouped Computations](https://tutorial.xarray.dev/fundamentals/03.2_groupby_with_xarray.html)"
   ]
  },
  {
   "cell_type": "markdown",
   "metadata": {
    "jp-MarkdownHeadingCollapsed": true
   },
   "source": [
    "## Overview: Why Xarray?"
   ]
  },
  {
   "cell_type": "markdown",
   "metadata": {},
   "source": [
    "Multi-dimensional (a.k.a. N-dimensional, ND) arrays (sometimes called “tensors”)\n",
    "are an essential part of computational science. They are encountered in a wide\n",
    "range of fields, including physics, astronomy, geoscience, bioinformatics,\n",
    "engineering, finance, and deep learning. In Python, [NumPy](https://numpy.org/)\n",
    "provides the fundamental data structure and API for working with raw ND arrays.\n",
    "However, real-world datasets are usually more than just raw numbers; they have\n",
    "labels which encode information about how the array values map to locations in\n",
    "space, time, etc.\n",
    "\n",
    "Here is an example of how we might structure a dataset for a weather forecast:\n",
    "\n",
    "<img src=\"https://docs.xarray.dev/en/stable/_images/dataset-diagram.png\" align=\"center\" width=\"80%\">\n",
    "\n",
    "You'll notice multiple data variables (temperature, precipitation), coordinate\n",
    "variables (latitude, longitude), and dimensions (x, y, t). We'll cover how these\n",
    "fit into Xarray's data structures below.\n",
    "\n",
    "Xarray doesn’t just keep track of labels on arrays – it uses them to provide a\n",
    "powerful and concise interface. For example:\n",
    "\n",
    "- Apply operations over dimensions by name: `x.sum('time')`.\n",
    "\n",
    "- Select values by label (or logical location) instead of integer location:\n",
    "  `x.loc['2014-01-01']` or `x.sel(time='2014-01-01')`.\n",
    "\n",
    "- Mathematical operations (e.g., `x - y`) vectorize across multiple dimensions\n",
    "  (array broadcasting) based on dimension names, not shape.\n",
    "\n",
    "- Easily use the split-apply-combine paradigm with groupby:\n",
    "  `x.groupby('time.dayofyear').mean()`.\n",
    "\n",
    "- Database-like alignment based on coordinate labels that smoothly handles\n",
    "  missing values: `x, y = xr.align(x, y, join='outer')`.\n",
    "\n",
    "- Keep track of arbitrary metadata in the form of a Python dictionary:\n",
    "  `x.attrs`.\n",
    "\n",
    "The N-dimensional nature of xarray’s data structures makes it suitable for\n",
    "dealing with multi-dimensional scientific data, and its use of dimension names\n",
    "instead of axis labels (`dim='time'` instead of `axis=0`) makes such arrays much\n",
    "more manageable than the raw numpy ndarray: with xarray, you don’t need to keep\n",
    "track of the order of an array’s dimensions or insert dummy dimensions of size 1\n",
    "to align arrays (e.g., using np.newaxis).\n",
    "\n",
    "The immediate payoff of using xarray is that you’ll write less code. The\n",
    "long-term payoff is that you’ll understand what you were thinking when you come\n",
    "back to look at it weeks or months later."
   ]
  },
  {
   "cell_type": "markdown",
   "metadata": {
    "jp-MarkdownHeadingCollapsed": true
   },
   "source": [
    "## Xarray's Data structures"
   ]
  },
  {
   "cell_type": "markdown",
   "metadata": {},
   "source": [
    "Xarray provides two data structures: the `DataArray` and `Dataset`. The\n",
    "`DataArray` class attaches dimension names, coordinates and attributes to\n",
    "multi-dimensional arrays while `Dataset` combines multiple arrays.\n",
    "\n",
    "Both classes are most commonly created by reading data.\n",
    "To learn how to create a DataArray or Dataset manually, see the **Working with labeled data** tutorial.\n",
    "\n",
    "Xarray has a few small real-world tutorial datasets hosted in the [pydata/xarray](https://github.com/pydata/xarray-data) Github repository.\n",
    "We'll use the [xarray.tutorial.load_dataset](https://docs.xarray.dev/en/stable/generated/xarray.tutorial.open_dataset.html#xarray.tutorial.open_dataset) convenience function to download and open the `air_temperature` (National Centers for Environmental Prediction) Dataset by name."
   ]
  },
  {
   "cell_type": "code",
   "execution_count": null,
   "metadata": {},
   "outputs": [],
   "source": [
    "import numpy as np\n",
    "import xarray as xr"
   ]
  },
  {
   "cell_type": "code",
   "execution_count": null,
   "metadata": {},
   "outputs": [],
   "source": [
    "print(\"Numpy version:\", np.__version__)\n",
    "print(\"Xarray version:\", xr.__version__)"
   ]
  },
  {
   "cell_type": "markdown",
   "metadata": {},
   "source": [
    "### Dataset\n",
    "\n",
    "`Dataset` objects are dictionary-like containers of DataArrays, mapping a variable name to each DataArray."
   ]
  },
  {
   "cell_type": "code",
   "execution_count": null,
   "metadata": {},
   "outputs": [],
   "source": [
    "ds = xr.tutorial.load_dataset(\"air_temperature\")\n",
    "ds"
   ]
  },
  {
   "cell_type": "markdown",
   "metadata": {},
   "source": [
    "We can access \"layers\" of the Dataset (individual DataArrays) with dictionary syntax"
   ]
  },
  {
   "cell_type": "code",
   "execution_count": null,
   "metadata": {},
   "outputs": [],
   "source": [
    "ds[\"air\"]"
   ]
  },
  {
   "cell_type": "markdown",
   "metadata": {},
   "source": [
    "We can save some typing by using the \"attribute\" or \"dot\" notation. This won't work for variable names that clash with built-in method names (for example, mean)."
   ]
  },
  {
   "cell_type": "code",
   "execution_count": null,
   "metadata": {},
   "outputs": [],
   "source": [
    "ds.air"
   ]
  },
  {
   "cell_type": "markdown",
   "metadata": {},
   "source": [
    "#### What is all this anyway? (String representations)\n",
    "\n",
    "Xarray has two representation types: `\"html\"` (which is only available in\n",
    "notebooks) and `\"text\"`. To choose between them, use the `display_style` option.\n",
    "\n",
    "So far, our notebook has automatically displayed the `\"html\"` representation (which we will continue using).\n",
    "The `\"html\"` representation is interactive, allowing you to collapse sections (left arrows) and\n",
    "view attributes and values for each value (right hand sheet icon and data symbol)."
   ]
  },
  {
   "cell_type": "code",
   "execution_count": null,
   "metadata": {},
   "outputs": [],
   "source": [
    "ds"
   ]
  },
  {
   "cell_type": "code",
   "execution_count": null,
   "metadata": {},
   "outputs": [],
   "source": [
    "with xr.set_options(display_style=\"html\"):\n",
    "    display(ds)"
   ]
  },
  {
   "cell_type": "markdown",
   "metadata": {},
   "source": [
    "The output consists of:\n",
    "\n",
    "- a summary of all **Dimensions** of the `Dataset` `(lat: 25, time: 2920, lon: 53)`: this tells us that the first\n",
    "  dimension is named `lat` and has a size of `25`, the second dimension is named\n",
    "  `time` and has a size of `2920`, and the third dimension is named `lon` and has a size\n",
    "  of `53`. Because we will access the dimensions by name, the order doesn't matter.\n",
    "- an unordered list of **Coordinates** or dimensions with coordinates with one item\n",
    "  per line. Each item has a name, one or more dimensions in parentheses, a dtype\n",
    "  and a preview of the values. Also, if it is a dimension coordinate, it will be\n",
    "  marked with a `*` or **bolded** like the example above.\n",
    "- an alphabetically sorted list of **Data variables**, which are the actual data within the dataset. Similar to *Coordinates*, each data variable has a name, one or more dimensions in parentheses, a dtype and a preview of the values.\n",
    "- an unordered list of **Indexes**, which lists the indexes associated with coordinates. This is a very new feature that is part of the [flexible indexes](https://docs.xarray.dev/en/stable/roadmap.html#flexible-indexes) work underway. Each item has a name and a class type of index used. This currently only shows up in the \"html\" representation as seen above.\n",
    "- an unordered list of **Attributes**, or metadata"
   ]
  },
  {
   "cell_type": "code",
   "execution_count": null,
   "metadata": {},
   "outputs": [],
   "source": [
    "with xr.set_options(display_style=\"text\"):\n",
    "    display(ds)"
   ]
  },
  {
   "cell_type": "markdown",
   "metadata": {},
   "source": [
    "To understand each of the components better, we'll explore the \"air\" variable of our Dataset."
   ]
  },
  {
   "cell_type": "markdown",
   "metadata": {},
   "source": [
    "### DataArray"
   ]
  },
  {
   "cell_type": "markdown",
   "metadata": {},
   "source": [
    "The `DataArray` class consists of an array (data) and its associated dimension names, labels, and attributes (metadata)."
   ]
  },
  {
   "cell_type": "code",
   "execution_count": null,
   "metadata": {},
   "outputs": [],
   "source": [
    "da = ds[\"air\"]\n",
    "da"
   ]
  },
  {
   "cell_type": "markdown",
   "metadata": {},
   "source": [
    "#### String representations\n",
    "\n",
    "We can use the same two representations (`\"html\"`, which is only available in\n",
    "notebooks, and `\"text\"`) to display our `DataArray`."
   ]
  },
  {
   "cell_type": "code",
   "execution_count": null,
   "metadata": {},
   "outputs": [],
   "source": [
    "with xr.set_options(display_style=\"html\"):\n",
    "    display(da)"
   ]
  },
  {
   "cell_type": "code",
   "execution_count": null,
   "metadata": {},
   "outputs": [],
   "source": [
    "with xr.set_options(display_style=\"text\"):\n",
    "    display(da)"
   ]
  },
  {
   "cell_type": "markdown",
   "metadata": {},
   "source": [
    "In the string representation of a `DataArray` (versus a `Dataset`), we also see:\n",
    "- the `DataArray` name ('air')\n",
    "- a preview of the array data (collapsible in the `\"html\"` representation)"
   ]
  },
  {
   "cell_type": "markdown",
   "metadata": {},
   "source": [
    "We can also access the data array directly:"
   ]
  },
  {
   "cell_type": "code",
   "execution_count": null,
   "metadata": {},
   "outputs": [],
   "source": [
    "ds.air.data # (or equivalently, `da.data`)"
   ]
  },
  {
   "cell_type": "markdown",
   "metadata": {},
   "source": [
    "#### Named dimensions \n",
    "\n",
    "`.dims` are the named axes of your data. They may (dimension coordinates) or may not (dimensions without coordinates) have associated values. Names can be anything that fits into a Python `set` (i.e. calling `hash()` on it doesn't raise an error), but to be\n",
    "useful they should be strings.\n",
    "\n",
    "In this case we have 2 spatial dimensions (`latitude` and `longitude` are stored with shorthand names `lat` and `lon`) and one temporal dimension (`time`)."
   ]
  },
  {
   "cell_type": "code",
   "execution_count": null,
   "metadata": {},
   "outputs": [],
   "source": [
    "ds.air.dims"
   ]
  },
  {
   "cell_type": "markdown",
   "metadata": {},
   "source": [
    "#### Coordinates\n",
    "\n",
    "\n",
    "`.coords` is a simple [dict-like](https://docs.python.org/3/glossary.html#term-mapping) [data container](https://docs.xarray.dev/en/stable/user-guide/data-structures.html#coordinates)\n",
    "for mapping coordinate names to values. These values can be:\n",
    "- another `DataArray` object\n",
    "- a tuple of the form `(dims, data, attrs)` where `attrs` is optional. This is\n",
    "  roughly equivalent to creating a new `DataArray` object with\n",
    "  `DataArray(dims=dims, data=data, attrs=attrs)`\n",
    "- a 1-dimensional `numpy` array (or anything that can be coerced to one using [`numpy.array`](https://numpy.org/doc/stable/reference/generated/numpy.array.html), such as a `list`) containing numbers, datetime objects, strings, etc. to label each point.\n",
    "\n",
    "Here we see the actual timestamps and spatial positions of our air temperature data:"
   ]
  },
  {
   "cell_type": "code",
   "execution_count": null,
   "metadata": {},
   "outputs": [],
   "source": [
    "ds.air.coords"
   ]
  },
  {
   "cell_type": "markdown",
   "metadata": {},
   "source": [
    ":::{note}\n",
    "The difference between the dimension labels (dimension coordinates) and normal\n",
    "coordinates is that for now it only is possible to use indexing operations\n",
    "(`sel`, `reindex`, etc.) with dimension coordinates. Also, while coordinates can\n",
    "have arbitrary dimensions, dimension coordinates have to be one-dimensional.\n",
    ":::"
   ]
  },
  {
   "cell_type": "markdown",
   "metadata": {},
   "source": [
    "#### Attributes \n",
    "\n",
    "`.attrs` is a dictionary that can contain arbitrary Python objects (strings, lists, integers, dictionaries, etc.) containing information about your data. Your only\n",
    "limitation is that some attributes may not be writeable to certain file formats."
   ]
  },
  {
   "cell_type": "code",
   "execution_count": null,
   "metadata": {},
   "outputs": [],
   "source": [
    "ds.air.attrs"
   ]
  },
  {
   "cell_type": "markdown",
   "metadata": {},
   "source": [
    "### To Pandas and back\n",
    "\n",
    "`DataArray` and `Dataset` objects are frequently created by converting from\n",
    "other libraries such as [pandas](https://pandas.pydata.org/) or by reading from\n",
    "data storage formats such as\n",
    "[NetCDF](https://www.unidata.ucar.edu/software/netcdf/) or\n",
    "[zarr](https://zarr.readthedocs.io/en/stable/).\n",
    "\n",
    "To convert from / to `pandas`, we can use the\n",
    "[`to_xarray`](https://pandas.pydata.org/pandas-docs/stable/reference/api/pandas.DataFrame.to_xarray.html)\n",
    "methods on [pandas](https://zarr.readthedocs.io/en/stable/) objects or the\n",
    "[`to_pandas`](https://docs.xarray.dev/en/stable/generated/xarray.DataArray.to_pandas.html)\n",
    "methods on `xarray` objects:"
   ]
  },
  {
   "cell_type": "code",
   "execution_count": null,
   "metadata": {},
   "outputs": [],
   "source": [
    "import pandas as pd"
   ]
  },
  {
   "cell_type": "code",
   "execution_count": null,
   "metadata": {},
   "outputs": [],
   "source": [
    "print(\"Pandas version:\", pd.__version__)"
   ]
  },
  {
   "cell_type": "code",
   "execution_count": null,
   "metadata": {},
   "outputs": [],
   "source": [
    "series = pd.Series(np.ones((10,)), index=list(\"abcdefghij\"))\n",
    "series"
   ]
  },
  {
   "cell_type": "code",
   "execution_count": null,
   "metadata": {},
   "outputs": [],
   "source": [
    "arr = series.to_xarray()\n",
    "arr"
   ]
  },
  {
   "cell_type": "code",
   "execution_count": null,
   "metadata": {},
   "outputs": [],
   "source": [
    "arr.to_pandas()"
   ]
  },
  {
   "cell_type": "markdown",
   "metadata": {},
   "source": [
    "We can also control what `pandas` object is used by calling `to_series` or\n",
    "`to_dataframe`:\n",
    "\n",
    "**`to_series`** will always convert `DataArray` objects to\n",
    "`pandas.Series`, using a `MultiIndex` for higher dimensions"
   ]
  },
  {
   "cell_type": "code",
   "execution_count": null,
   "metadata": {},
   "outputs": [],
   "source": [
    "ds.air.to_series()"
   ]
  },
  {
   "cell_type": "markdown",
   "metadata": {},
   "source": [
    "**`to_dataframe`** will always convert `DataArray` or `Dataset`\n",
    "objects to a `pandas.DataFrame`. Note that `DataArray` objects have to be named\n",
    "for this."
   ]
  },
  {
   "cell_type": "code",
   "execution_count": null,
   "metadata": {},
   "outputs": [],
   "source": [
    "ds.air.to_dataframe()"
   ]
  },
  {
   "cell_type": "markdown",
   "metadata": {},
   "source": [
    "Since columns in a DataFrame need to have the same index, they are *broadcasted*."
   ]
  },
  {
   "cell_type": "code",
   "execution_count": null,
   "metadata": {},
   "outputs": [],
   "source": [
    "ds.to_dataframe()"
   ]
  },
  {
   "cell_type": "markdown",
   "metadata": {
    "jp-MarkdownHeadingCollapsed": true
   },
   "source": [
    "## Indexing and Selecting Data"
   ]
  },
  {
   "cell_type": "markdown",
   "metadata": {},
   "source": [
    "Xarray offers extremely flexible indexing routines that combine the best features of NumPy and Pandas for data selection.\n",
    "\n",
    "The most basic way to access elements of a `DataArray` object is to use Python’s `[]` syntax, such as `array[i, j]`, where `i` and `j` are both integers.\n",
    "\n",
    "As xarray objects can store coordinates corresponding to each dimension of an array, label-based indexing is also possible (e.g. `.sel(latitude=0)`, similar to `pandas.DataFrame.loc`). In label-based indexing, the element position `i` is automatically looked-up from the coordinate values.\n",
    "\n",
    "By leveraging the labeled dimensions and coordinates provided by Xarray, users can effortlessly access, subset, and manipulate data along multiple axes, enabling complex operations such as slicing, masking, and aggregating data based on specific criteria. \n",
    "\n",
    "This indexing and selection capability of Xarray not only enhances data exploration and analysis workflows but also promotes reproducibility and efficiency by providing a convenient interface for working with multi-dimensional data structures."
   ]
  },
  {
   "cell_type": "markdown",
   "metadata": {},
   "source": [
    "In total, xarray supports four different kinds of indexing, as described below and summarized in this table:\n",
    "\n",
    "| Dimension lookup | Index lookup | `DataArray` syntax   |   `Dataset` syntax   |\n",
    "| ---------------- | ------------ | ---------------------| ---------------------|\n",
    "| Positional       | By integer   | `da[:,0]`            | *not available*      |\n",
    "| Positional       | By label     | `da.loc[:,'IA']`     | *not available*      |\n",
    "| By name          | By integer   | `da.isel(space=0)` or `da[dict(space=0)]`  | `ds.isel(space=0)` or  `ds[dict(space=0)]`  |\n",
    "| By name          | By label     | `da.sel(space='IA')` or `da.loc[dict(space='IA')]` | `ds.sel(space='IA')` or `ds.loc[dict(space='IA')]` |"
   ]
  },
  {
   "cell_type": "code",
   "execution_count": null,
   "metadata": {},
   "outputs": [],
   "source": []
  },
  {
   "cell_type": "markdown",
   "metadata": {},
   "source": [
    "### Label-based indexing"
   ]
  },
  {
   "cell_type": "markdown",
   "metadata": {},
   "source": [
    "Select data by coordinate labels. Xarray inherits its label-based indexing rules from pandas; this means great support for dates and times!"
   ]
  },
  {
   "cell_type": "code",
   "execution_count": null,
   "metadata": {},
   "outputs": [],
   "source": [
    "# pull out data for all of 2013-May\n",
    "ds.sel(time=\"2013-05\")"
   ]
  },
  {
   "cell_type": "code",
   "execution_count": null,
   "metadata": {},
   "outputs": [],
   "source": [
    "# slicing data from May to July 2013\n",
    "ds.sel(time=slice(\"2013-05\", \"2013-07\"))"
   ]
  },
  {
   "cell_type": "code",
   "execution_count": null,
   "metadata": {},
   "outputs": [],
   "source": [
    "# can also get the whole year\n",
    "ds.sel(time=\"2013\")"
   ]
  },
  {
   "cell_type": "code",
   "execution_count": null,
   "metadata": {},
   "outputs": [],
   "source": [
    "# demonstrate \"nearest\" indexing\n",
    "ds.sel(lon=240.2, method=\"nearest\")"
   ]
  },
  {
   "cell_type": "code",
   "execution_count": null,
   "metadata": {},
   "outputs": [],
   "source": [
    "# \"nearest indexing at multiple points\"\n",
    "ds.sel(lon=[240.125, 234], lat=[40.3, 50.3], method=\"nearest\")"
   ]
  },
  {
   "cell_type": "markdown",
   "metadata": {},
   "source": [
    "### Position-based indexing"
   ]
  },
  {
   "cell_type": "markdown",
   "metadata": {},
   "source": [
    "This is similar to your usual numpy `array[0, 2, 3]` but with the power of named dimensions!"
   ]
  },
  {
   "cell_type": "code",
   "execution_count": null,
   "metadata": {},
   "outputs": [],
   "source": [
    "ds.air.data[0, 2, 3]"
   ]
  },
  {
   "cell_type": "code",
   "execution_count": null,
   "metadata": {},
   "outputs": [],
   "source": [
    "# pull out time index 0, lat index 2, and lon index 3\n",
    "ds.air.isel(time=0, lat=2, lon=3)  #  much better than ds.air[0, 2, 3]"
   ]
  },
  {
   "cell_type": "code",
   "execution_count": null,
   "metadata": {},
   "outputs": [],
   "source": [
    "# demonstrate slicing\n",
    "ds.air.isel(lat=slice(10))"
   ]
  },
  {
   "cell_type": "markdown",
   "metadata": {},
   "source": [
    "## Concepts for computation"
   ]
  },
  {
   "cell_type": "markdown",
   "metadata": {},
   "source": [
    "Here is a motivating calculation where we subtract two DataArrays with data available at different locations in the (space, time) plane."
   ]
  },
  {
   "cell_type": "code",
   "execution_count": null,
   "metadata": {},
   "outputs": [],
   "source": [
    "arr1 = xr.DataArray(\n",
    "    np.arange(12).reshape(3, 4),\n",
    "    dims=(\"space\", \"time\"),\n",
    "    coords={\"space\": [\"a\", \"b\", \"c\"], \"time\": [0, 1, 2, 3]},\n",
    ")\n",
    "arr1"
   ]
  },
  {
   "cell_type": "code",
   "execution_count": null,
   "metadata": {},
   "outputs": [],
   "source": [
    "arr2 = xr.DataArray(\n",
    "    [0, 1],\n",
    "    dims=\"space\",\n",
    "    coords={\"space\": [\"b\", \"d\"]},\n",
    ")\n",
    "arr2"
   ]
  },
  {
   "cell_type": "markdown",
   "metadata": {},
   "source": [
    ":::{note}\n",
    "`arr1` is 2D; while `arr2` is 1D along `space` and has values at two locations only.\n",
    ":::"
   ]
  },
  {
   "cell_type": "code",
   "execution_count": null,
   "metadata": {},
   "outputs": [],
   "source": [
    "arr1 - arr2"
   ]
  },
  {
   "cell_type": "markdown",
   "metadata": {},
   "source": [
    "To understand this output, we must understand two fundamental concepts underlying computation with Xarray objects\n",
    "\n",
    "1. Broadcasting: The objects need to have compatible shapes.\n",
    "2. Alignment: The objects need to have values at the same coordinate labels"
   ]
  },
  {
   "cell_type": "markdown",
   "metadata": {},
   "source": [
    "### Broadcasting: adjusting arrays to the same shape\n",
    "\n",
    "**Broadcasting** allows an operator or a function to act on two or more arrays\n",
    "to operate even if these arrays do not have the same shape. That said, not all\n",
    "the dimensions can be subjected to broadcasting; they must meet certain rules.\n",
    "The image below illustrates how an operation on arrays with\n",
    "different coordinates will result in automatic broadcasting\n",
    "\n",
    "![](https://tutorial.xarray.dev/_images/broadcasting_schematic.png)\n",
    "\n",
    "Credit: Stephan Hoyer --\n",
    "[xarray ECMWF Python workshop](https://docs.google.com/presentation/d/16CMY3g_OYr6fQplUZIDqVtG-SKZqsG8Ckwoj2oOqepU/)\n",
    "\n",
    "Numpy's broadcasting rules, based on array shape, can sometimes be\n",
    "difficult to understand and remember. Xarray does broadcasting by dimension name,\n",
    "rather than array shape. This is a huge convenience.\n",
    "\n",
    "Here are two 1D arrays"
   ]
  },
  {
   "cell_type": "code",
   "execution_count": null,
   "metadata": {},
   "outputs": [],
   "source": [
    "array1 = xr.DataArray(\n",
    "    np.arange(3),\n",
    "    dims=\"space\",\n",
    "    coords={\"space\": [\"a\", \"b\", \"c\"]},\n",
    "    name=\"array1\",\n",
    ")\n",
    "array2 = xr.DataArray(\n",
    "    np.arange(4),\n",
    "    dims=\"time\",\n",
    "    coords={\"time\": [0, 1, 2, 3]},\n",
    "    name=\"array2\",\n",
    ")\n",
    "display(array1)\n",
    "display(array2)"
   ]
  },
  {
   "cell_type": "markdown",
   "metadata": {},
   "source": [
    "Let's subtract the two:"
   ]
  },
  {
   "cell_type": "code",
   "execution_count": null,
   "metadata": {},
   "outputs": [],
   "source": [
    "array1 - array2"
   ]
  },
  {
   "cell_type": "markdown",
   "metadata": {},
   "source": [
    "We see that the result is a 2D array. \n",
    "\n",
    "When subtracting, Xarray first realizes that `array1` is missing the dimension `time` and `array2` is missing the dimension `space`.  Xarray then broadcasts or \"expands\" both arrays to 2D with dimensions `space`, `time`. Here is an illustration:\n",
    "\n",
    "![](https://tutorial.xarray.dev/_images/broadcasting_schematic.png)"
   ]
  },
  {
   "cell_type": "markdown",
   "metadata": {},
   "source": [
    "#### Broadcasting in numpy\n",
    "\n",
    "For contrast let us examine the pure numpy version  of this calculation. We use [.data](https://docs.xarray.dev/en/stable/generated/xarray.DataArray.data.html) to extract the underlying numpy array object.\n"
   ]
  },
  {
   "cell_type": "code",
   "execution_count": null,
   "metadata": {
    "tags": [
     "raises-exception"
    ]
   },
   "outputs": [],
   "source": [
    "array1.data - array2.data"
   ]
  },
  {
   "cell_type": "markdown",
   "metadata": {},
   "source": [
    "To get this calculation to work, we need to insert new axes manually using [np.newaxis](https://numpy.org/doc/stable/reference/constants.html?highlight=newaxis)."
   ]
  },
  {
   "cell_type": "code",
   "execution_count": null,
   "metadata": {},
   "outputs": [],
   "source": [
    "array1.data[:, np.newaxis] - array2.data[np.newaxis, :]"
   ]
  },
  {
   "cell_type": "markdown",
   "metadata": {},
   "source": [
    "\n",
    "Because xarray knows about dimension names we avoid having to create unnecessary\n",
    "size-1 dimensions using `np.newaxis` or `.reshape`. This is yet another example where the _metadata_ (dimension names) reduces the mental overhead associated with coding a calculation\n",
    "\n",
    "For more, see the [Xarray documentation](https://docs.xarray.dev/en/stable/user-guide/computation.html#broadcasting-by-dimension-name) and the [numpy documentation](https://numpy.org/doc/stable/user/basics.broadcasting.html) on broadcasting.\n"
   ]
  },
  {
   "cell_type": "markdown",
   "metadata": {
    "tags": []
   },
   "source": [
    "### Alignment: putting data on the same grid\n",
    "\n",
    "\n",
    "When combining two input arrays using an arithmetic operation, both arrays must first be converted to the same coordinate system. This is \"alignment\".\n",
    "\n",
    "![](https://tutorial.xarray.dev/_images/alignment_schematic.png)\n",
    "\n",
    "\n",
    "Here are two 2D DataArrays with different shapes."
   ]
  },
  {
   "cell_type": "code",
   "execution_count": null,
   "metadata": {},
   "outputs": [],
   "source": [
    "arr1 = xr.DataArray(\n",
    "    np.arange(12).reshape(3, 4),\n",
    "    dims=(\"space\", \"time\"),\n",
    "    coords={\"space\": [\"a\", \"b\", \"c\"], \"time\": [0, 1, 2, 3]},\n",
    ")\n",
    "arr1"
   ]
  },
  {
   "cell_type": "code",
   "execution_count": null,
   "metadata": {},
   "outputs": [],
   "source": [
    "arr2 = xr.DataArray(\n",
    "    np.arange(14).reshape(2, 7),\n",
    "    dims=(\"space\", \"time\"),\n",
    "    coords={\"space\": [\"b\", \"d\"], \"time\": [-2, -1, 0, 1, 2, 3, 4]},\n",
    ")\n",
    "arr2"
   ]
  },
  {
   "cell_type": "markdown",
   "metadata": {},
   "source": [
    "`arr1` and `arr2` have the same dimensions (space, time) but have values at different locations in the (space, time) plane  with some locations in common.\n",
    "\n",
    ":::{note}\n",
    "xarray assumes coordinate labels are in the same coordinate system such that space='b' in arr1 is the same as space='b' in arr2. For more sophisticated handling of coordinate systems see [rioxarray](https://corteva.github.io/rioxarray/stable/)\n",
    ":::"
   ]
  },
  {
   "cell_type": "markdown",
   "metadata": {},
   "source": [
    "We see that both arrays only have values in common at x=\"b\" and y=[0, 1, 2, 3]. Before applying an arithmetic operation we must first modify each DataArray so that they have values at the same points. This is \"alignment\"."
   ]
  },
  {
   "cell_type": "markdown",
   "metadata": {},
   "source": [
    "##### Controlling alignment\n",
    "\n",
    "We can explicitly align objects using [xr.align](https://docs.xarray.dev/en/stable/generated/xarray.align.html). The key decision to make is how to decide which points must be kept. The other way to think of alignment is that objects must be converted to a common grid prior to any operation combining multiiple objects. This decision is controlled by the `\"join\"` keyword argument. Xarray provides 5 ways to convert the coordinate labels of multiple Datasets to a common grid. This [terminology](https://en.wikipedia.org/wiki/Join_(SQL)) originates in the database community.\n",
    "\n",
    "1. `join=\"inner\"` or reindex to the \"intersection set\" of coordinate labels\n",
    "2. `join=\"outer\"` or reindex to the \"union set\" of coordinate labels\n",
    "3. `join=\"left\"`  or reindex to the coordinate labels of the leftmost object\n",
    "4. `join=\"right\"` or reindex to the coordinate labels of the rightmost object\n",
    "5. `join=\"exact\"` checks for exact equality of coordinate labels before the operation.\n",
    "\n",
    "First lets try an inner join. This is the default for arithmetic operations in Xarray. We see that the result has values for locations that `arr1` and `arr2` have in common: `x=\"b\"` and `y=[0, 1, 2, 3]`. Here is an illustration\n",
    "\n",
    "![](https://tutorial.xarray.dev/_images/alignment_schematic.png)"
   ]
  },
  {
   "cell_type": "code",
   "execution_count": null,
   "metadata": {},
   "outputs": [],
   "source": [
    "a1_aligned, a2_aligned = xr.align(arr1, arr2, join=\"inner\")\n",
    "display(a1_aligned)\n",
    "display(a2_aligned)"
   ]
  },
  {
   "cell_type": "markdown",
   "metadata": {
    "jp-MarkdownHeadingCollapsed": true
   },
   "source": [
    "## High level computation"
   ]
  },
  {
   "cell_type": "markdown",
   "metadata": {},
   "source": [
    "(`groupby`, `resample`, `rolling`, `coarsen`, `weighted`)\n",
    "\n",
    "Xarray has some very useful high level objects that let you do common\n",
    "computations:\n",
    "\n",
    "1. `groupby` :\n",
    "   [Bin data in to groups and reduce](https://docs.xarray.dev/en/stable/groupby.html)\n",
    "1. `resample` :\n",
    "   [Groupby specialized for time axes. Either downsample or upsample your data.](https://docs.xarray.dev/en/stable/user-guide/time-series.html#resampling-and-grouped-operations)\n",
    "1. `rolling` :\n",
    "   [Operate on rolling windows of your data e.g. running mean](https://docs.xarray.dev/en/stable/user-guide/computation.html#rolling-window-operations)\n",
    "1. `coarsen` :\n",
    "   [Downsample your data](https://docs.xarray.dev/en/stable/user-guide/computation.html#coarsen-large-arrays)\n",
    "1. `weighted` :\n",
    "   [Weight your data before reducing](https://docs.xarray.dev/en/stable/user-guide/computation.html#weighted-array-reductions)\n",
    "\n",
    "\n",
    "Below we quickly demonstrate these patterns. See the user guide links above and [the tutorial](https://tutorial.xarray.dev/intermediate/01-high-level-computation-patterns.html) for more."
   ]
  },
  {
   "cell_type": "markdown",
   "metadata": {},
   "source": [
    "### `groupby`"
   ]
  },
  {
   "cell_type": "markdown",
   "metadata": {},
   "source": [
    "Xarray copies Pandas’ very useful groupby functionality, enabling the “split / apply / combine” workflow on xarray DataArrays and Datasets."
   ]
  },
  {
   "cell_type": "code",
   "execution_count": null,
   "metadata": {},
   "outputs": [],
   "source": [
    "# seasonal groups\n",
    "ds.groupby(\"time.season\")"
   ]
  },
  {
   "cell_type": "code",
   "execution_count": null,
   "metadata": {},
   "outputs": [],
   "source": [
    "# make a seasonal mean\n",
    "seasonal_mean = ds.groupby(\"time.season\").mean()\n",
    "seasonal_mean"
   ]
  },
  {
   "cell_type": "markdown",
   "metadata": {},
   "source": [
    "The seasons are out of order (they are alphabetically sorted). This is a common\n",
    "annoyance. The solution is to use `.sel` to change the order of labels"
   ]
  },
  {
   "cell_type": "code",
   "execution_count": null,
   "metadata": {},
   "outputs": [],
   "source": [
    "seasonal_mean = seasonal_mean.sel(season=[\"DJF\", \"MAM\", \"JJA\", \"SON\"])\n",
    "seasonal_mean"
   ]
  },
  {
   "cell_type": "markdown",
   "metadata": {},
   "source": [
    "### `resample`"
   ]
  },
  {
   "cell_type": "markdown",
   "metadata": {},
   "source": [
    "Resampling means changing the time frequency of data, usually reducing to a coarser frequency: e.g. converting daily frequency data to monthly frequency data using `mean` to reduce the values. This operation can be thought of as a groupby operation where each group is a single month of data. Resampling can be applied only to time-index dimensions."
   ]
  },
  {
   "cell_type": "code",
   "execution_count": null,
   "metadata": {},
   "outputs": [],
   "source": [
    "# resample to monthly frequency\n",
    "ds.resample(time=\"M\").mean()"
   ]
  },
  {
   "cell_type": "markdown",
   "metadata": {},
   "source": [
    "### `weighted`"
   ]
  },
  {
   "cell_type": "markdown",
   "metadata": {},
   "source": [
    "Xarray supports [weighted array reductions](https://docs.xarray.dev/en/stable/user-guide/computation.html#weighted-array-reductions)"
   ]
  },
  {
   "cell_type": "markdown",
   "metadata": {},
   "source": [
    "`DataArray` and `Dataset` objects include `DataArray.weighted()` and `Dataset.weighted()` array reduction methods. They currently support weighted `sum`, `mean`, `std`, `var` and `quantile`."
   ]
  },
  {
   "cell_type": "code",
   "execution_count": null,
   "metadata": {},
   "outputs": [],
   "source": [
    "coords = dict(month=(\"month\", [1, 2, 3]))"
   ]
  },
  {
   "cell_type": "code",
   "execution_count": null,
   "metadata": {},
   "outputs": [],
   "source": [
    "prec = xr.DataArray([1.1, 1.0, 0.9], dims=(\"month\",), coords=coords)"
   ]
  },
  {
   "cell_type": "code",
   "execution_count": null,
   "metadata": {},
   "outputs": [],
   "source": [
    "weights = xr.DataArray([31, 28, 31], dims=(\"month\",), coords=coords)"
   ]
  },
  {
   "cell_type": "code",
   "execution_count": null,
   "metadata": {},
   "outputs": [],
   "source": [
    "# Created weighted object\n",
    "weighted_prec = prec.weighted(weights)\n",
    "weighted_prec"
   ]
  },
  {
   "cell_type": "code",
   "execution_count": null,
   "metadata": {},
   "outputs": [],
   "source": [
    "# Calculate the weighted sum\n",
    "weighted_prec.sum()"
   ]
  },
  {
   "cell_type": "code",
   "execution_count": null,
   "metadata": {},
   "outputs": [],
   "source": [
    "# Calculate the weighted mean\n",
    "weighted_prec.mean(dim=\"month\")"
   ]
  },
  {
   "cell_type": "code",
   "execution_count": null,
   "metadata": {},
   "outputs": [],
   "source": [
    "# Calculate the weighted quantile\n",
    "weighted_prec.quantile(q=0.5, dim=\"month\")"
   ]
  },
  {
   "cell_type": "markdown",
   "metadata": {},
   "source": [
    ":::{note}\n",
    "weights must be a `DataArray` and cannot contain missing values. Missing values can be replaced manually by `weights.fillna(0)`.\n",
    ":::"
   ]
  },
  {
   "cell_type": "markdown",
   "metadata": {
    "jp-MarkdownHeadingCollapsed": true
   },
   "source": [
    "## Visualization"
   ]
  },
  {
   "cell_type": "markdown",
   "metadata": {},
   "source": [
    "Xarray lets you easily visualize datasets easily by default and integrates really well with the [Holoviz](https://holoviz.org/) ecosystem."
   ]
  },
  {
   "cell_type": "markdown",
   "metadata": {},
   "source": [
    "Plot the air temperature seasonal mean from above `groupby`"
   ]
  },
  {
   "cell_type": "code",
   "execution_count": null,
   "metadata": {},
   "outputs": [],
   "source": [
    "seasonal_mean.air.plot(col=\"season\", col_wrap=2);"
   ]
  },
  {
   "cell_type": "code",
   "execution_count": null,
   "metadata": {},
   "outputs": [],
   "source": [
    "# contours\n",
    "seasonal_mean.air.plot.contour(col=\"season\", levels=20, add_colorbar=True);"
   ]
  },
  {
   "cell_type": "code",
   "execution_count": null,
   "metadata": {},
   "outputs": [],
   "source": [
    "# line plots as well\n",
    "seasonal_mean.air.mean(\"lon\").plot.line(hue=\"season\", y=\"lat\");"
   ]
  },
  {
   "cell_type": "markdown",
   "metadata": {},
   "source": [
    "For more see the [user guide](https://docs.xarray.dev/en/stable/plotting.html), the [gallery](https://docs.xarray.dev/en/stable/examples/visualization_gallery.html), and [the tutorial material](https://tutorial.xarray.dev/fundamentals/04.0_plotting.html)."
   ]
  },
  {
   "cell_type": "markdown",
   "metadata": {
    "jp-MarkdownHeadingCollapsed": true
   },
   "source": [
    "## Reading and writing files"
   ]
  },
  {
   "cell_type": "markdown",
   "metadata": {},
   "source": [
    "Xarray supports many disk formats. Below is a small example using netCDF. For\n",
    "more see the [documentation](https://docs.xarray.dev/en/stable/user-guide/io.html)"
   ]
  },
  {
   "cell_type": "code",
   "execution_count": null,
   "metadata": {},
   "outputs": [],
   "source": [
    "ds.to_netcdf(\"my-example-dataset.nc\")"
   ]
  },
  {
   "cell_type": "markdown",
   "metadata": {},
   "source": [
    "```{note}\n",
    "To avoid the `SerializationWarning` you can assign a _FillValue for any NaNs in 'air' array by adding the keyword argument encoding=dict(air={_FillValue=-9999})\n",
    "```"
   ]
  },
  {
   "cell_type": "code",
   "execution_count": null,
   "metadata": {
    "jp-MarkdownHeadingCollapsed": true
   },
   "outputs": [],
   "source": [
    "# read from disk\n",
    "fromdisk = xr.open_dataset(\"my-example-dataset.nc\")\n",
    "fromdisk"
   ]
  },
  {
   "cell_type": "code",
   "execution_count": null,
   "metadata": {},
   "outputs": [],
   "source": []
  },
  {
   "cell_type": "code",
   "execution_count": null,
   "metadata": {},
   "outputs": [],
   "source": [
    "# check that the two are identical\n",
    "ds.identical(fromdisk)"
   ]
  },
  {
   "cell_type": "markdown",
   "metadata": {},
   "source": [
    ":::{tip}\n",
    "A common use case to read datasets that are a collection of many netCDF\n",
    "files. See the [documentation](https://docs.xarray.dev/en/stable/user-guide/io.html#reading-multi-file-datasets) for how\n",
    "to handle that.\n",
    "\n",
    "Finally to read other file formats, you might find yourself reading in the data using a different library and then creating a DataArray([docs](https://docs.xarray.dev/en/stable/user-guide/data-structures.html#creating-a-dataarray), [tutorial](https://tutorial.xarray.dev/fundamentals/01.1_creating_data_structures.html)) from scratch. For example, you might use `h5py` to open an HDF5 file and then create a Dataset from that.\n",
    "For MATLAB files you might use `scipy.io.loadmat` or `h5py` depending on the version of MATLAB file you're opening and then construct a Dataset.\n",
    ":::"
   ]
  },
  {
   "cell_type": "markdown",
   "metadata": {
    "jp-MarkdownHeadingCollapsed": true
   },
   "source": [
    "## What's Next"
   ]
  },
  {
   "cell_type": "markdown",
   "metadata": {},
   "source": [
    "1. Read the [tutorial](https://tutorial.xarray.dev) material and [user guide](https://docs.xarray.dev/en/stable/user-guide/index.html)\n",
    "1. See the description of [common terms](https://docs.xarray.dev/en/stable/terminology.html) used in the xarray documentation\n",
    "1. Answers to common questions on \"how to do X\" with Xarray are [here](https://docs.xarray.dev/en/stable/howdoi.html)\n",
    "1. Ryan Abernathey has a book on data analysis with a [chapter on Xarray](https://earth-env-data-science.github.io/lectures/xarray/xarray_intro.html)\n",
    "1. [Project Pythia](https://projectpythia.org/) has [foundational](https://foundations.projectpythia.org/landing-page.html) and more [advanced](https://cookbooks.projectpythia.org/) material on Xarray. Pythia also aggregates other [Python learning resources](https://projectpythia.org/resource-gallery.html).\n",
    "1. The [Xarray Github Discussions](https://github.com/pydata/xarray/discussions) and [Pangeo Discourse](https://discourse.pangeo.io/) are good places to ask questions.\n",
    "1. Tell your friends! Tweet!"
   ]
  },
  {
   "cell_type": "code",
   "execution_count": null,
   "metadata": {},
   "outputs": [],
   "source": []
  }
 ],
 "metadata": {
  "kernelspec": {
   "display_name": "Python 3 (ipykernel)",
   "language": "python",
   "name": "python3"
  },
  "language_info": {
   "codemirror_mode": {
    "name": "ipython",
    "version": 3
   },
   "file_extension": ".py",
   "mimetype": "text/x-python",
   "name": "python",
   "nbconvert_exporter": "python",
   "pygments_lexer": "ipython3",
   "version": "3.10.12"
  }
 },
 "nbformat": 4,
 "nbformat_minor": 4
}
